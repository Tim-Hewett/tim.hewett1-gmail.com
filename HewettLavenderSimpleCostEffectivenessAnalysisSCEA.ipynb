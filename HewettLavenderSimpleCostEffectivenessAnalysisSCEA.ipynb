{
 "cells": [
  {
   "cell_type": "code",
   "execution_count": null,
   "metadata": {},
   "outputs": [
    {
     "name": "stdout",
     "output_type": "stream",
     "text": [
      "Lavender-Hewett Simple Cost Effectiveness Analysis or LHSCEA or Lasso\n"
     ]
    }
   ],
   "source": [
    "print(\"Lavender-Hewett Simple Cost Effectiveness Analysis or LHSCEA or Lasso\")\n"
   ]
  },
  {
   "cell_type": "code",
   "execution_count": null,
   "metadata": {},
   "outputs": [
    {
     "name": "stdout",
     "output_type": "stream",
     "text": [
      "INPUT REQUIREMENTS for USER: You will need to obtain and enter the procedure time in minutes, average operating room cost per minute, surgical materials cost, final QoL Scores, final Functional Rating score, the time to return to work or play in weeks for each procedure, the final surgical tunnel width in mm and whether surgical revision was required and whether or not the revision was staged.\n"
     ]
    }
   ],
   "source": [
    "print(\"INPUT REQUIREMENTS for USER: You will need to obtain and enter the procedure time in minutes, average operating room cost per minute, surgical materials cost, final QoL Scores, final Functional Rating score, the time to return to work or play in weeks for each procedure, the final surgical tunnel width in mm and whether surgical revision was required and whether or not the revision was staged.\")"
   ]
  },
  {
   "cell_type": "code",
   "execution_count": 1,
   "metadata": {},
   "outputs": [
    {
     "name": "stdout",
     "output_type": "stream",
     "text": [
      "What is your procedure time in minutes for Procedure A?\n",
      "What is your procedure time in minutes for Procedure B?\n"
     ]
    },
    {
     "ename": "KeyboardInterrupt",
     "evalue": "Interrupted by user",
     "output_type": "error",
     "traceback": [
      "\u001b[1;31m---------------------------------------------------------------------------\u001b[0m",
      "\u001b[1;31mKeyboardInterrupt\u001b[0m                         Traceback (most recent call last)",
      "\u001b[1;32mc:\\Users\\hewettt\\projects\\HewettLavenderSimpleCostEffectivenessAnalysisSCEA.ipynb Cell 3'\u001b[0m in \u001b[0;36m<cell line: 5>\u001b[1;34m()\u001b[0m\n\u001b[0;32m      <a href='vscode-notebook-cell:/c%3A/Users/hewettt/projects/HewettLavenderSimpleCostEffectivenessAnalysisSCEA.ipynb#ch0000002?line=2'>3</a>\u001b[0m SxtA \u001b[39m=\u001b[39m (\u001b[39m\"\u001b[39m\u001b[39mprocedure time in minutes for Procedure A\u001b[39m\u001b[39m\"\u001b[39m)\n\u001b[0;32m      <a href='vscode-notebook-cell:/c%3A/Users/hewettt/projects/HewettLavenderSimpleCostEffectivenessAnalysisSCEA.ipynb#ch0000002?line=3'>4</a>\u001b[0m SxtB \u001b[39m=\u001b[39m (\u001b[39m\"\u001b[39m\u001b[39mprocedure time in minutes for Procedure B\u001b[39m\u001b[39m\"\u001b[39m)\n\u001b[1;32m----> <a href='vscode-notebook-cell:/c%3A/Users/hewettt/projects/HewettLavenderSimpleCostEffectivenessAnalysisSCEA.ipynb#ch0000002?line=4'>5</a>\u001b[0m \u001b[39minput\u001b[39;49m(SxtA)\n\u001b[0;32m      <a href='vscode-notebook-cell:/c%3A/Users/hewettt/projects/HewettLavenderSimpleCostEffectivenessAnalysisSCEA.ipynb#ch0000002?line=5'>6</a>\u001b[0m \u001b[39minput\u001b[39m(SxtB)\n\u001b[0;32m      <a href='vscode-notebook-cell:/c%3A/Users/hewettt/projects/HewettLavenderSimpleCostEffectivenessAnalysisSCEA.ipynb#ch0000002?line=7'>8</a>\u001b[0m \u001b[39mprint\u001b[39m(\u001b[39m\"\u001b[39m\u001b[39mWhat is your average operating room cost per minute?\u001b[39m\u001b[39m\"\u001b[39m)\n",
      "File \u001b[1;32mc:\\Users\\hewettt\\projects\\env\\lib\\site-packages\\ipykernel\\kernelbase.py:1075\u001b[0m, in \u001b[0;36mKernel.raw_input\u001b[1;34m(self, prompt)\u001b[0m\n\u001b[0;32m   <a href='file:///c%3A/Users/hewettt/projects/env/lib/site-packages/ipykernel/kernelbase.py?line=1070'>1071</a>\u001b[0m \u001b[39mif\u001b[39;00m \u001b[39mnot\u001b[39;00m \u001b[39mself\u001b[39m\u001b[39m.\u001b[39m_allow_stdin:\n\u001b[0;32m   <a href='file:///c%3A/Users/hewettt/projects/env/lib/site-packages/ipykernel/kernelbase.py?line=1071'>1072</a>\u001b[0m     \u001b[39mraise\u001b[39;00m StdinNotImplementedError(\n\u001b[0;32m   <a href='file:///c%3A/Users/hewettt/projects/env/lib/site-packages/ipykernel/kernelbase.py?line=1072'>1073</a>\u001b[0m         \u001b[39m\"\u001b[39m\u001b[39mraw_input was called, but this frontend does not support input requests.\u001b[39m\u001b[39m\"\u001b[39m\n\u001b[0;32m   <a href='file:///c%3A/Users/hewettt/projects/env/lib/site-packages/ipykernel/kernelbase.py?line=1073'>1074</a>\u001b[0m     )\n\u001b[1;32m-> <a href='file:///c%3A/Users/hewettt/projects/env/lib/site-packages/ipykernel/kernelbase.py?line=1074'>1075</a>\u001b[0m \u001b[39mreturn\u001b[39;00m \u001b[39mself\u001b[39;49m\u001b[39m.\u001b[39;49m_input_request(\n\u001b[0;32m   <a href='file:///c%3A/Users/hewettt/projects/env/lib/site-packages/ipykernel/kernelbase.py?line=1075'>1076</a>\u001b[0m     \u001b[39mstr\u001b[39;49m(prompt),\n\u001b[0;32m   <a href='file:///c%3A/Users/hewettt/projects/env/lib/site-packages/ipykernel/kernelbase.py?line=1076'>1077</a>\u001b[0m     \u001b[39mself\u001b[39;49m\u001b[39m.\u001b[39;49m_parent_ident[\u001b[39m\"\u001b[39;49m\u001b[39mshell\u001b[39;49m\u001b[39m\"\u001b[39;49m],\n\u001b[0;32m   <a href='file:///c%3A/Users/hewettt/projects/env/lib/site-packages/ipykernel/kernelbase.py?line=1077'>1078</a>\u001b[0m     \u001b[39mself\u001b[39;49m\u001b[39m.\u001b[39;49mget_parent(\u001b[39m\"\u001b[39;49m\u001b[39mshell\u001b[39;49m\u001b[39m\"\u001b[39;49m),\n\u001b[0;32m   <a href='file:///c%3A/Users/hewettt/projects/env/lib/site-packages/ipykernel/kernelbase.py?line=1078'>1079</a>\u001b[0m     password\u001b[39m=\u001b[39;49m\u001b[39mFalse\u001b[39;49;00m,\n\u001b[0;32m   <a href='file:///c%3A/Users/hewettt/projects/env/lib/site-packages/ipykernel/kernelbase.py?line=1079'>1080</a>\u001b[0m )\n",
      "File \u001b[1;32mc:\\Users\\hewettt\\projects\\env\\lib\\site-packages\\ipykernel\\kernelbase.py:1120\u001b[0m, in \u001b[0;36mKernel._input_request\u001b[1;34m(self, prompt, ident, parent, password)\u001b[0m\n\u001b[0;32m   <a href='file:///c%3A/Users/hewettt/projects/env/lib/site-packages/ipykernel/kernelbase.py?line=1116'>1117</a>\u001b[0m             \u001b[39mbreak\u001b[39;00m\n\u001b[0;32m   <a href='file:///c%3A/Users/hewettt/projects/env/lib/site-packages/ipykernel/kernelbase.py?line=1117'>1118</a>\u001b[0m \u001b[39mexcept\u001b[39;00m \u001b[39mKeyboardInterrupt\u001b[39;00m:\n\u001b[0;32m   <a href='file:///c%3A/Users/hewettt/projects/env/lib/site-packages/ipykernel/kernelbase.py?line=1118'>1119</a>\u001b[0m     \u001b[39m# re-raise KeyboardInterrupt, to truncate traceback\u001b[39;00m\n\u001b[1;32m-> <a href='file:///c%3A/Users/hewettt/projects/env/lib/site-packages/ipykernel/kernelbase.py?line=1119'>1120</a>\u001b[0m     \u001b[39mraise\u001b[39;00m \u001b[39mKeyboardInterrupt\u001b[39;00m(\u001b[39m\"\u001b[39m\u001b[39mInterrupted by user\u001b[39m\u001b[39m\"\u001b[39m) \u001b[39mfrom\u001b[39;00m \u001b[39mNone\u001b[39m\n\u001b[0;32m   <a href='file:///c%3A/Users/hewettt/projects/env/lib/site-packages/ipykernel/kernelbase.py?line=1120'>1121</a>\u001b[0m \u001b[39mexcept\u001b[39;00m \u001b[39mException\u001b[39;00m:\n\u001b[0;32m   <a href='file:///c%3A/Users/hewettt/projects/env/lib/site-packages/ipykernel/kernelbase.py?line=1121'>1122</a>\u001b[0m     \u001b[39mself\u001b[39m\u001b[39m.\u001b[39mlog\u001b[39m.\u001b[39mwarning(\u001b[39m\"\u001b[39m\u001b[39mInvalid Message:\u001b[39m\u001b[39m\"\u001b[39m, exc_info\u001b[39m=\u001b[39m\u001b[39mTrue\u001b[39;00m)\n",
      "\u001b[1;31mKeyboardInterrupt\u001b[0m: Interrupted by user"
     ]
    }
   ],
   "source": [
    "print(\"What is your procedure time in minutes for Procedure A?\")\n",
    "print(\"What is your procedure time in minutes for Procedure B?\")\n",
    "SxtA = (\"procedure time in minutes for Procedure A\")\n",
    "SxtB = (\"procedure time in minutes for Procedure B\")\n",
    "input(SxtA)\n",
    "input(SxtB)\n",
    "\n",
    "print(\"What is your average operating room cost per minute?\")\n",
    "ORtCost = (\"average operating room cost per minute\")\n",
    "input(ORtCost)\n",
    "\n",
    "print(\"What is your surgical materials cost for Procedure A?\")\n",
    "print(\"What is your surgical materials cost for Procedure B?\")\n",
    "SxmA = (\"procedure surgical materials cost for Procedure A\")\n",
    "SxmB = (\"procedure surgical materials cost for Procedure B\")\n",
    "input(SxtA)\n",
    "input(SxtB)\n",
    "\n",
    "print(\"What is your final surgical tunnel width in mm for Procedure A?\")\n",
    "print(\"What is your final surgical tunnel width in mm for Procedure B?\")\n",
    "SxTWA = (\"final surgical tunnel width in mm for Procedure A\")\n",
    "SxTWB = (\"final surgical tunnel width in mm for Procedure B\")\n",
    "input(SxTWA)\n",
    "input(SxTWB)\n",
    "\n",
    "print(\"What is your final Quality of Life or QoLY score for Procedure A?\")\n",
    "print(\"What is your final Quality of Life or QoLY score for Procedure B?\")\n",
    "QoLYA = (\"final Quality of Life or QoLY score for Procedure A\")\n",
    "QoLYB = (\"final Quality of Life or QoLY score for Procedure B\")\n",
    "input(QoLYA)\n",
    "input(QoLYB)\n",
    "\n",
    "print(\"What is your final Functional Rating or IKDC or Marx score for Procedure A?\")\n",
    "print(\"What is your final Functional Rating or IKDC or Marx score for Procedure B?\")\n",
    "FuncRA = (\"final Functional Rating or IKDC or Marx score for Procedure A\")\n",
    "FuncRB = (\"final Functional Rating or IKDC or Marx score for Procedure B\")\n",
    "input(FuncRA)\n",
    "input(FuncRB)\n",
    "\n",
    "print(\"What is your total return to work or play or RTS time in weeks for Procedure A?\")\n",
    "print(\"What is your total return to work or play or RTS time in weeks for Procedure B?\")\n",
    "RTStA = (\"total return to work or play or RTS time in weeks for Procedure A\")\n",
    "RTStB = (\"total return to work or play or RTS time in weeks for Procedure B\")\n",
    "input(RTStA)\n",
    "input(RTStB)\n",
    "\n",
    "\n",
    "print(\"Was surgical revision required Yes or No for Procedure A?\")\n",
    "print(\"Was surgical revision required Yes or No for Procedure B?\")\n",
    "Y = True\n",
    "N = False\n",
    "\n",
    "print(\"staged revision required Yes or No for Procedure A\")\n",
    "print(\"staged revision required Yes or No for Procedure B\")\n",
    "input(\"Y or N\")\n",
    "\n",
    "print(\"The total cost of procedure A\" == (\"procedure time in minutes for Procedure A\" * \"average operating room cost per minute\" + \"surgical materials cost for Procedure A\"))\n",
    "print(\"The total cost of procedure B\" == (\"procedure time in minutes for Procedure B\" * \"average operating room cost per minute\" + \"surgical materials cost for Procedure B\"))\n",
    "CostA = (\"The total cost of procedure A\")\n",
    "CostB = (\"The total cost of procedure B\")\n",
    "\n",
    "print(CostA == (SxtA * ORtCost + SxmA))\n",
    "print(CostB == (SxtB * ORtCost + SxmB))\n",
    "\n",
    "print(\"The total outcome score of procedure A\" == (\"final Quality of Life or QoLY score for Procedure A\" * \"final Functional Rating or IKDC or Marx score for Procedure A\" / \"total return to work or play or RTS time in weeks for Procedure A\"))\n",
    "RTStA = (\"total return to work or play or RTS time in weeks for Procedure A\")\n",
    "print(\"The total outcome score procedure B\" == (\"final Quality of Life or QoLY score for Procedure B\" * \"final Functional Rating or IKDC or Marx score for Procedure B\" / \"total return to work or play or RTS time in weeks for Procedure A\"))\n",
    "RTStB = (\"total return to work or play or RTS time in weeks for Procedure B\")\n",
    "\n",
    "OutA = (\"The total outcome score of procedure A\")\n",
    "OutB = (\"The total outcome score of procedure B\")\n",
    "\n",
    "print(OutA == (QoLYA * FuncRA / RTStA))\n",
    "print(OutB == (QoLYB * FuncRB / RTStB))\n",
    "\n",
    "\n",
    "print(\"The procedure cost in US dollars and cents for Procedure A is ______\")\n",
    "print(\"The procedure cost in US dollars and cents for Procedure B is ______\")\n",
    "print(\"The recovery cost in US dollars and cents for Procedure A is ______\")\n",
    "print(\"The recovery cost in US dollars and cents for Procedure B is ______\")\n",
    "print(\"The total cost in US dollars and cents for Procedure A is ______\")\n",
    "print(\"The total cost in US dollars and cents for Procedure B is ______\")\n",
    "\n",
    "print(\"Please note An incremental cost-effectiveness ratio of $50 000/quality-adjusted life year QALY will be used as the threshold for cost-effectiveness.\")\n",
    "\n"
   ]
  },
  {
   "cell_type": "code",
   "execution_count": null,
   "metadata": {},
   "outputs": [],
   "source": [
    "#I'm STILL tryimg to commit -TEH - after working on it with Cody & John"
   ]
  }
 ],
 "metadata": {
  "interpreter": {
   "hash": "558d11d4f0261f098f88c16075bce4b41bf85445cfa054456b3067081be08fd2"
  },
  "kernelspec": {
   "display_name": "Python 3.10.4 (conda)",
   "language": "python",
   "name": "python3"
  },
  "language_info": {
   "codemirror_mode": {
    "name": "ipython",
    "version": 3
   },
   "file_extension": ".py",
   "mimetype": "text/x-python",
   "name": "python",
   "nbconvert_exporter": "python",
   "pygments_lexer": "ipython3",
   "version": "3.10.4"
  },
  "orig_nbformat": 4
 },
 "nbformat": 4,
 "nbformat_minor": 2
}
