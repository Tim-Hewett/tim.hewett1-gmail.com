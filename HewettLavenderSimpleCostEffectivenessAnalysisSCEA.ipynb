{
 "cells": [
  {
   "cell_type": "code",
   "execution_count": 1,
   "metadata": {},
   "outputs": [
    {
     "name": "stdout",
     "output_type": "stream",
     "text": [
      "Lavender-Hewett Simple Cost Effectiveness Analysis or LHSCEA or Lasso\n"
     ]
    }
   ],
   "source": [
    "print(\"Lavender-Hewett Simple Cost Effectiveness Analysis or LHSCEA or Lasso\")\n"
   ]
  },
  {
   "cell_type": "code",
   "execution_count": 15,
   "metadata": {},
   "outputs": [
    {
     "name": "stdout",
     "output_type": "stream",
     "text": [
      "INPUT REQUIREMENTS for USER: You will need to obtain and enter the procedure time in minutes, average operating room cost per minute, surgical materials cost, final QoL Scores, final Functional Rating score, the time to return to work or play in weeks for each procedure, the final surgical tunnel width in mm and whether surgical revision was required and whether or not the revision was staged.\n"
     ]
    }
   ],
   "source": [
    "print(\"INPUT REQUIREMENTS for USER: You will need to obtain and enter the procedure time in minutes, average operating room cost per minute, surgical materials cost, final QoL Scores, final Functional Rating score, the time to return to work or play in weeks for each procedure, the final surgical tunnel width in mm and whether surgical revision was required and whether or not the revision was staged.\")"
   ]
  },
  {
   "cell_type": "code",
   "execution_count": 27,
   "metadata": {},
   "outputs": [
    {
     "name": "stdout",
     "output_type": "stream",
     "text": [
      "What is your procedure time in minutes for Procedure A?\n",
      "What is your procedure time in minutes for Procedure B\n",
      "What is your average operating room cost per minute?\n",
      "What is your surgical materials cost for Procedure A?\n",
      "What is your surgical materials cost for Procedure B?\n",
      "What is your final surgical tunnel width in mm for Procedure A?\n",
      "What is your final surgical tunnel width in mm for Procedure B?\n",
      "What is your final Quality of Life or QoLY score for Procedure A\n",
      "What is your final Quality of Life or QoLY score for Procedure B\n",
      "What is your final Functional Rating or IKDC or Marx score for Procedure A?\n",
      "What is your final Functional Rating or IKDC or Marx score for Procedure B?\n",
      "What is your total return to work or play or RTS time in weeks for Procedure A\n",
      "What is your total return to work or play or RTS time in weeks for Procedure B\n",
      "Was surgical revision required Yes or No for Procedure A?\n",
      "Was surgical revision required Yes or No for Procedure B?\n",
      "staged revision required Yes or No for Procedure A\n",
      "staged revision required Yes or No for Procedure B\n"
     ]
    },
    {
     "ename": "TypeError",
     "evalue": "can't multiply sequence by non-int of type 'str'",
     "output_type": "error",
     "traceback": [
      "\u001b[1;31m---------------------------------------------------------------------------\u001b[0m",
      "\u001b[1;31mTypeError\u001b[0m                                 Traceback (most recent call last)",
      "\u001b[1;32mc:\\Users\\hewettt\\projects\\HewettLavenderSimpleCostEffectivenessAnalysisSCEA.ipynb Cell 3'\u001b[0m in \u001b[0;36m<cell line: 58>\u001b[1;34m()\u001b[0m\n\u001b[0;32m     <a href='vscode-notebook-cell:/c%3A/Users/hewettt/projects/HewettLavenderSimpleCostEffectivenessAnalysisSCEA.ipynb#ch0000002?line=54'>55</a>\u001b[0m \u001b[39mprint\u001b[39m(\u001b[39m\"\u001b[39m\u001b[39mstaged revision required Yes or No for Procedure B\u001b[39m\u001b[39m\"\u001b[39m)\n\u001b[0;32m     <a href='vscode-notebook-cell:/c%3A/Users/hewettt/projects/HewettLavenderSimpleCostEffectivenessAnalysisSCEA.ipynb#ch0000002?line=55'>56</a>\u001b[0m \u001b[39minput\u001b[39m(\u001b[39m\"\u001b[39m\u001b[39mY or N\u001b[39m\u001b[39m\"\u001b[39m)\n\u001b[1;32m---> <a href='vscode-notebook-cell:/c%3A/Users/hewettt/projects/HewettLavenderSimpleCostEffectivenessAnalysisSCEA.ipynb#ch0000002?line=57'>58</a>\u001b[0m \u001b[39mprint\u001b[39m(\u001b[39m\"\u001b[39m\u001b[39mThe total cost of procedure A\u001b[39m\u001b[39m\"\u001b[39m \u001b[39m==\u001b[39m (\u001b[39m\"\u001b[39;49m\u001b[39mprocedure time in minutes for Procedure A\u001b[39;49m\u001b[39m\"\u001b[39;49m \u001b[39m*\u001b[39;49m \u001b[39m\"\u001b[39;49m\u001b[39maverage operating room cost per minute\u001b[39;49m\u001b[39m\"\u001b[39;49m \u001b[39m+\u001b[39m \u001b[39m\"\u001b[39m\u001b[39msurgical materials cost for Procedure A\u001b[39m\u001b[39m\"\u001b[39m))\n\u001b[0;32m     <a href='vscode-notebook-cell:/c%3A/Users/hewettt/projects/HewettLavenderSimpleCostEffectivenessAnalysisSCEA.ipynb#ch0000002?line=58'>59</a>\u001b[0m \u001b[39mprint\u001b[39m(\u001b[39m\"\u001b[39m\u001b[39mThe total cost of procedure B\u001b[39m\u001b[39m\"\u001b[39m \u001b[39m==\u001b[39m (\u001b[39m\"\u001b[39m\u001b[39mprocedure time in minutes for Procedure B\u001b[39m\u001b[39m\"\u001b[39m \u001b[39m*\u001b[39m \u001b[39m\"\u001b[39m\u001b[39maverage operating room cost per minute\u001b[39m\u001b[39m\"\u001b[39m \u001b[39m+\u001b[39m \u001b[39m\"\u001b[39m\u001b[39msurgical materials cost for Procedure B\u001b[39m\u001b[39m\"\u001b[39m))\n\u001b[0;32m     <a href='vscode-notebook-cell:/c%3A/Users/hewettt/projects/HewettLavenderSimpleCostEffectivenessAnalysisSCEA.ipynb#ch0000002?line=59'>60</a>\u001b[0m CostA \u001b[39m=\u001b[39m (\u001b[39m\"\u001b[39m\u001b[39mThe total cost of procedure A\u001b[39m\u001b[39m\"\u001b[39m)\n",
      "\u001b[1;31mTypeError\u001b[0m: can't multiply sequence by non-int of type 'str'"
     ]
    }
   ],
   "source": [
    "print(\"What is your procedure time in minutes for Procedure A?\")\n",
    "print(\"What is your procedure time in minutes for Procedure B?\")\n",
    "SxtA = (\"procedure time in minutes for Procedure A\")\n",
    "SxtB = (\"procedure time in minutes for Procedure B\")\n",
    "input(SxtA)\n",
    "input(SxtB)\n",
    "\n",
    "print(\"What is your average operating room cost per minute?\")\n",
    "ORtCost = (\"average operating room cost per minute\")\n",
    "input(ORtCost)\n",
    "\n",
    "print(\"What is your surgical materials cost for Procedure A?\")\n",
    "print(\"What is your surgical materials cost for Procedure B?\")\n",
    "SxmA = (\"procedure surgical materials cost for Procedure A\")\n",
    "SxmB = (\"procedure surgical materials cost for Procedure B\")\n",
    "input(SxtA)\n",
    "input(SxtB)\n",
    "\n",
    "print(\"What is your final surgical tunnel width in mm for Procedure A?\")\n",
    "print(\"What is your final surgical tunnel width in mm for Procedure B?\")\n",
    "SxTWA = (\"final surgical tunnel width in mm for Procedure A\")\n",
    "SxTWB = (\"final surgical tunnel width in mm for Procedure B\")\n",
    "input(SxTWA)\n",
    "input(SxTWB)\n",
    "\n",
    "print(\"What is your final Quality of Life or QoLY score for Procedure A?\")\n",
    "print(\"What is your final Quality of Life or QoLY score for Procedure B?\")\n",
    "QoLYA = (\"final Quality of Life or QoLY score for Procedure A\")\n",
    "QoLYB = (\"final Quality of Life or QoLY score for Procedure B\")\n",
    "input(QoLYA)\n",
    "input(QoLYB)\n",
    "\n",
    "print(\"What is your final Functional Rating or IKDC or Marx score for Procedure A?\")\n",
    "print(\"What is your final Functional Rating or IKDC or Marx score for Procedure B?\")\n",
    "FuncRA = (\"final Functional Rating or IKDC or Marx score for Procedure A\")\n",
    "FuncRB = (\"final Functional Rating or IKDC or Marx score for Procedure B\")\n",
    "input(FuncRA)\n",
    "input(FuncRB)\n",
    "\n",
    "print(\"What is your total return to work or play or RTS time in weeks for Procedure A?\")\n",
    "print(\"What is your total return to work or play or RTS time in weeks for Procedure B?\")\n",
    "RTStA = (\"total return to work or play or RTS time in weeks for Procedure A\")\n",
    "RTStB = (\"total return to work or play or RTS time in weeks for Procedure B\")\n",
    "input(RTStA)\n",
    "input(RTStB)\n",
    "\n",
    "\n",
    "print(\"Was surgical revision required Yes or No for Procedure A?\")\n",
    "print(\"Was surgical revision required Yes or No for Procedure B?\")\n",
    "Y = True\n",
    "N = False\n",
    "\n",
    "print(\"staged revision required Yes or No for Procedure A\")\n",
    "print(\"staged revision required Yes or No for Procedure B\")\n",
    "input(\"Y or N\")\n",
    "\n",
    "print(\"The total cost of procedure A\" == (\"procedure time in minutes for Procedure A\" * \"average operating room cost per minute\" + \"surgical materials cost for Procedure A\"))\n",
    "print(\"The total cost of procedure B\" == (\"procedure time in minutes for Procedure B\" * \"average operating room cost per minute\" + \"surgical materials cost for Procedure B\"))\n",
    "CostA = (\"The total cost of procedure A\")\n",
    "CostB = (\"The total cost of procedure B\")\n",
    "\n",
    "print(CostA == (SxtA * ORtCost + SxmA))\n",
    "print(CostB == (SxtB * ORtCost + SxmB))\n",
    "\n",
    "print(\"The total outcome score of procedure A\" == (\"final Quality of Life or QoLY score for Procedure A\" * \"final Functional Rating or IKDC or Marx score for Procedure A\" / \"total return to work or play or RTS time in weeks for Procedure A\"))\n",
    "RTStA = (\"total return to work or play or RTS time in weeks for Procedure A\")\n",
    "print(\"The total outcome score procedure B\" == (\"final Quality of Life or QoLY score for Procedure B\" * \"final Functional Rating or IKDC or Marx score for Procedure B\" / \"total return to work or play or RTS time in weeks for Procedure A\"))\n",
    "RTStB = (\"total return to work or play or RTS time in weeks for Procedure B\")\n",
    "\n",
    "OutA = (\"The total outcome score of procedure A\")\n",
    "OutB = (\"The total outcome score of procedure B\")\n",
    "\n",
    "print(OutA == (QoLYA * FuncRA / RTStA))\n",
    "print(OutB == (QoLYB * FuncRB / RTStB))\n",
    "\n",
    "\n",
    "print(\"The procedure cost in US dollars and cents for Procedure A is ______\")\n",
    "print(\"The procedure cost in US dollars and cents for Procedure B is ______\")\n",
    "print(\"The recovery cost in US dollars and cents for Procedure A is ______\")\n",
    "print(\"The recovery cost in US dollars and cents for Procedure B is ______\")\n",
    "print(\"The total cost in US dollars and cents for Procedure A is ______\")\n",
    "print(\"The total cost in US dollars and cents for Procedure B is ______\")\n",
    "\n",
    "print(\"Please note An incremental cost-effectiveness ratio of $50 000/quality-adjusted life year QALY will be used as the threshold for cost-effectiveness.\")\n",
    "\n",
    "\n",
    "52\n",
    "67\n",
    "15\n",
    "1200\n",
    "2400\n",
    "12\n",
    "10\n",
    "50\n",
    "75\n",
    "60\n",
    "90\n",
    "50\n",
    "22\n"
   ]
  },
  {
   "cell_type": "code",
   "execution_count": null,
   "metadata": {},
   "outputs": [],
   "source": []
  }
 ],
 "metadata": {
  "interpreter": {
   "hash": "558d11d4f0261f098f88c16075bce4b41bf85445cfa054456b3067081be08fd2"
  },
  "kernelspec": {
   "display_name": "Python 3.10.4 (conda)",
   "language": "python",
   "name": "python3"
  },
  "language_info": {
   "codemirror_mode": {
    "name": "ipython",
    "version": 3
   },
   "file_extension": ".py",
   "mimetype": "text/x-python",
   "name": "python",
   "nbconvert_exporter": "python",
   "pygments_lexer": "ipython3",
   "version": "3.10.4"
  },
  "orig_nbformat": 4
 },
 "nbformat": 4,
 "nbformat_minor": 2
}
