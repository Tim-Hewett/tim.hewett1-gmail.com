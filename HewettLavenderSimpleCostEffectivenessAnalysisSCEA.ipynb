{
 "cells": [
  {
   "cell_type": "markdown",
   "metadata": {},
   "source": [
    "# Feature 1: Import data"
   ]
  },
  {
   "cell_type": "code",
   "execution_count": 2,
   "metadata": {},
   "outputs": [],
   "source": [
    "import pandas as pd\n",
    "import numpy as np\n",
    "import matplotlib.pyplot as plt\n",
    "#testing work to home"
   ]
  },
  {
   "cell_type": "code",
   "execution_count": 3,
   "metadata": {},
   "outputs": [],
   "source": [
    "qoly = pd.read_excel('Copy of untitled-QOL-2.xlsx')\n",
    "ort = pd.read_excel('Copy of operating time - 16 minutes more for f at $15 per minute.xlsx')"
   ]
  },
  {
   "cell_type": "code",
   "execution_count": 4,
   "metadata": {
    "collapsed": true,
    "jupyter": {
     "outputs_hidden": true
    },
    "tags": []
   },
   "outputs": [
    {
     "data": {
      "text/html": [
       "<div>\n",
       "<style scoped>\n",
       "    .dataframe tbody tr th:only-of-type {\n",
       "        vertical-align: middle;\n",
       "    }\n",
       "\n",
       "    .dataframe tbody tr th {\n",
       "        vertical-align: top;\n",
       "    }\n",
       "\n",
       "    .dataframe thead th {\n",
       "        text-align: right;\n",
       "    }\n",
       "</style>\n",
       "<table border=\"1\" class=\"dataframe\">\n",
       "  <thead>\n",
       "    <tr style=\"text-align: right;\">\n",
       "      <th></th>\n",
       "      <th>Event ID</th>\n",
       "      <th>Related event</th>\n",
       "      <th>Event type</th>\n",
       "      <th>Event Status</th>\n",
       "      <th>End of Study Date</th>\n",
       "      <th>Reason for End of Study</th>\n",
       "      <th>SOS ID</th>\n",
       "      <th>Surgeon ID</th>\n",
       "      <th>Custom ID</th>\n",
       "      <th>Email</th>\n",
       "      <th>Study</th>\n",
       "      <th>Gender</th>\n",
       "      <th>Country</th>\n",
       "      <th>Time zone</th>\n",
       "      <th>Locale</th>\n",
       "      <th>Ethnicity</th>\n",
       "      <th>Fertilized</th>\n",
       "      <th>Patient Information- Fertilized ACL : Surgical time and personnel : 1 : Surgical Time (skin to skin)</th>\n",
       "      <th>Unnamed: 18</th>\n",
       "      <th>Unnamed: 19</th>\n",
       "    </tr>\n",
       "  </thead>\n",
       "  <tbody>\n",
       "    <tr>\n",
       "      <th>0</th>\n",
       "      <td>1272650</td>\n",
       "      <td>NaN</td>\n",
       "      <td>Surgery</td>\n",
       "      <td>Active</td>\n",
       "      <td>NaN</td>\n",
       "      <td>NaN</td>\n",
       "      <td>184962</td>\n",
       "      <td>4461</td>\n",
       "      <td>bmc0924</td>\n",
       "      <td>NaN</td>\n",
       "      <td>Fertilized ACL study</td>\n",
       "      <td>M</td>\n",
       "      <td>US</td>\n",
       "      <td>EDT</td>\n",
       "      <td>en</td>\n",
       "      <td>Not Hispanic or Latino</td>\n",
       "      <td>1</td>\n",
       "      <td>151</td>\n",
       "      <td>NaN</td>\n",
       "      <td>NaN</td>\n",
       "    </tr>\n",
       "    <tr>\n",
       "      <th>1</th>\n",
       "      <td>1335832</td>\n",
       "      <td>NaN</td>\n",
       "      <td>Surgery</td>\n",
       "      <td>Active</td>\n",
       "      <td>NaN</td>\n",
       "      <td>NaN</td>\n",
       "      <td>191632</td>\n",
       "      <td>4461</td>\n",
       "      <td>bmc1003</td>\n",
       "      <td>NaN</td>\n",
       "      <td>Fertilized ACL study</td>\n",
       "      <td>M</td>\n",
       "      <td>US</td>\n",
       "      <td>EDT</td>\n",
       "      <td>en</td>\n",
       "      <td>Not Hispanic or Latino</td>\n",
       "      <td>1</td>\n",
       "      <td>114</td>\n",
       "      <td>NaN</td>\n",
       "      <td>NaN</td>\n",
       "    </tr>\n",
       "    <tr>\n",
       "      <th>2</th>\n",
       "      <td>1350423</td>\n",
       "      <td>NaN</td>\n",
       "      <td>Surgery</td>\n",
       "      <td>Active</td>\n",
       "      <td>NaN</td>\n",
       "      <td>NaN</td>\n",
       "      <td>193331</td>\n",
       "      <td>4461</td>\n",
       "      <td>bmc0313</td>\n",
       "      <td>NaN</td>\n",
       "      <td>Fertilized ACL study</td>\n",
       "      <td>F</td>\n",
       "      <td>US</td>\n",
       "      <td>EDT</td>\n",
       "      <td>en</td>\n",
       "      <td>Not Hispanic or Latino</td>\n",
       "      <td>1</td>\n",
       "      <td>85</td>\n",
       "      <td>NaN</td>\n",
       "      <td>NaN</td>\n",
       "    </tr>\n",
       "    <tr>\n",
       "      <th>3</th>\n",
       "      <td>1358532</td>\n",
       "      <td>NaN</td>\n",
       "      <td>Surgery</td>\n",
       "      <td>Active</td>\n",
       "      <td>NaN</td>\n",
       "      <td>NaN</td>\n",
       "      <td>194303</td>\n",
       "      <td>4461</td>\n",
       "      <td>bmc0622</td>\n",
       "      <td>NaN</td>\n",
       "      <td>Fertilized ACL study</td>\n",
       "      <td>M</td>\n",
       "      <td>US</td>\n",
       "      <td>EDT</td>\n",
       "      <td>en</td>\n",
       "      <td>Not Hispanic or Latino</td>\n",
       "      <td>1</td>\n",
       "      <td>174</td>\n",
       "      <td>NaN</td>\n",
       "      <td>NaN</td>\n",
       "    </tr>\n",
       "    <tr>\n",
       "      <th>4</th>\n",
       "      <td>1363316</td>\n",
       "      <td>NaN</td>\n",
       "      <td>Surgery</td>\n",
       "      <td>Active</td>\n",
       "      <td>NaN</td>\n",
       "      <td>NaN</td>\n",
       "      <td>194711</td>\n",
       "      <td>4461</td>\n",
       "      <td>bmc1227</td>\n",
       "      <td>NaN</td>\n",
       "      <td>Fertilized ACL study</td>\n",
       "      <td>F</td>\n",
       "      <td>US</td>\n",
       "      <td>EDT</td>\n",
       "      <td>en</td>\n",
       "      <td>Not Hispanic or Latino</td>\n",
       "      <td>1</td>\n",
       "      <td>142</td>\n",
       "      <td>NaN</td>\n",
       "      <td>NaN</td>\n",
       "    </tr>\n",
       "  </tbody>\n",
       "</table>\n",
       "</div>"
      ],
      "text/plain": [
       "   Event ID  Related event Event type Event Status  End of Study Date  \\\n",
       "0   1272650            NaN    Surgery       Active                NaN   \n",
       "1   1335832            NaN    Surgery       Active                NaN   \n",
       "2   1350423            NaN    Surgery       Active                NaN   \n",
       "3   1358532            NaN    Surgery       Active                NaN   \n",
       "4   1363316            NaN    Surgery       Active                NaN   \n",
       "\n",
       "   Reason for End of Study  SOS ID  Surgeon ID Custom ID  Email  \\\n",
       "0                      NaN  184962        4461   bmc0924    NaN   \n",
       "1                      NaN  191632        4461   bmc1003    NaN   \n",
       "2                      NaN  193331        4461   bmc0313    NaN   \n",
       "3                      NaN  194303        4461   bmc0622    NaN   \n",
       "4                      NaN  194711        4461   bmc1227    NaN   \n",
       "\n",
       "                  Study Gender Country Time zone Locale  \\\n",
       "0  Fertilized ACL study      M      US       EDT     en   \n",
       "1  Fertilized ACL study      M      US       EDT     en   \n",
       "2  Fertilized ACL study      F      US       EDT     en   \n",
       "3  Fertilized ACL study      M      US       EDT     en   \n",
       "4  Fertilized ACL study      F      US       EDT     en   \n",
       "\n",
       "                Ethnicity  Fertilized  \\\n",
       "0  Not Hispanic or Latino           1   \n",
       "1  Not Hispanic or Latino           1   \n",
       "2  Not Hispanic or Latino           1   \n",
       "3  Not Hispanic or Latino           1   \n",
       "4  Not Hispanic or Latino           1   \n",
       "\n",
       "   Patient Information- Fertilized ACL : Surgical time and personnel : 1 : Surgical Time (skin to skin)  \\\n",
       "0                                                151                                                      \n",
       "1                                                114                                                      \n",
       "2                                                 85                                                      \n",
       "3                                                174                                                      \n",
       "4                                                142                                                      \n",
       "\n",
       "   Unnamed: 18  Unnamed: 19  \n",
       "0          NaN          NaN  \n",
       "1          NaN          NaN  \n",
       "2          NaN          NaN  \n",
       "3          NaN          NaN  \n",
       "4          NaN          NaN  "
      ]
     },
     "execution_count": 4,
     "metadata": {},
     "output_type": "execute_result"
    }
   ],
   "source": [
    "ort.head()"
   ]
  },
  {
   "cell_type": "markdown",
   "metadata": {},
   "source": [
    "# Feature 2: Clean Data"
   ]
  },
  {
   "cell_type": "code",
   "execution_count": 7,
   "metadata": {},
   "outputs": [],
   "source": [
    "qoly = qoly.fillna(0)"
   ]
  },
  {
   "cell_type": "code",
   "execution_count": 8,
   "metadata": {},
   "outputs": [],
   "source": [
    "qoly = qoly.drop([3,7])"
   ]
  },
  {
   "cell_type": "code",
   "execution_count": 9,
   "metadata": {
    "collapsed": true,
    "jupyter": {
     "outputs_hidden": true
    },
    "tags": []
   },
   "outputs": [
    {
     "data": {
      "text/html": [
       "<div>\n",
       "<style scoped>\n",
       "    .dataframe tbody tr th:only-of-type {\n",
       "        vertical-align: middle;\n",
       "    }\n",
       "\n",
       "    .dataframe tbody tr th {\n",
       "        vertical-align: top;\n",
       "    }\n",
       "\n",
       "    .dataframe thead th {\n",
       "        text-align: right;\n",
       "    }\n",
       "</style>\n",
       "<table border=\"1\" class=\"dataframe\">\n",
       "  <thead>\n",
       "    <tr style=\"text-align: right;\">\n",
       "      <th></th>\n",
       "      <th>Key</th>\n",
       "      <th>Timepoint</th>\n",
       "      <th>Average</th>\n",
       "      <th># Compliant Surveys</th>\n",
       "      <th># Submitted Surveys</th>\n",
       "      <th>Total # of Surveys</th>\n",
       "      <th>Standard Deviation</th>\n",
       "    </tr>\n",
       "  </thead>\n",
       "  <tbody>\n",
       "    <tr>\n",
       "      <th>0</th>\n",
       "      <td>Fertilized</td>\n",
       "      <td>6 months</td>\n",
       "      <td>67.1296</td>\n",
       "      <td>27.0</td>\n",
       "      <td>27.0</td>\n",
       "      <td>29.0</td>\n",
       "      <td>18.7173</td>\n",
       "    </tr>\n",
       "    <tr>\n",
       "      <th>1</th>\n",
       "      <td>Fertilized</td>\n",
       "      <td>1 year</td>\n",
       "      <td>80.5147</td>\n",
       "      <td>17.0</td>\n",
       "      <td>17.0</td>\n",
       "      <td>22.0</td>\n",
       "      <td>19.8729</td>\n",
       "    </tr>\n",
       "    <tr>\n",
       "      <th>2</th>\n",
       "      <td>Fertilized</td>\n",
       "      <td>2 years</td>\n",
       "      <td>87.5000</td>\n",
       "      <td>5.0</td>\n",
       "      <td>5.0</td>\n",
       "      <td>7.0</td>\n",
       "      <td>12.5000</td>\n",
       "    </tr>\n",
       "    <tr>\n",
       "      <th>4</th>\n",
       "      <td>New Patient Group</td>\n",
       "      <td>6 months</td>\n",
       "      <td>52.6042</td>\n",
       "      <td>24.0</td>\n",
       "      <td>24.0</td>\n",
       "      <td>30.0</td>\n",
       "      <td>18.4226</td>\n",
       "    </tr>\n",
       "    <tr>\n",
       "      <th>5</th>\n",
       "      <td>New Patient Group</td>\n",
       "      <td>1 year</td>\n",
       "      <td>59.3750</td>\n",
       "      <td>20.0</td>\n",
       "      <td>20.0</td>\n",
       "      <td>25.0</td>\n",
       "      <td>29.9739</td>\n",
       "    </tr>\n",
       "  </tbody>\n",
       "</table>\n",
       "</div>"
      ],
      "text/plain": [
       "                 Key Timepoint  Average  # Compliant Surveys  \\\n",
       "0         Fertilized  6 months  67.1296                 27.0   \n",
       "1         Fertilized    1 year  80.5147                 17.0   \n",
       "2         Fertilized   2 years  87.5000                  5.0   \n",
       "4  New Patient Group  6 months  52.6042                 24.0   \n",
       "5  New Patient Group    1 year  59.3750                 20.0   \n",
       "\n",
       "   # Submitted Surveys  Total # of Surveys  Standard Deviation  \n",
       "0                 27.0                29.0             18.7173  \n",
       "1                 17.0                22.0             19.8729  \n",
       "2                  5.0                 7.0             12.5000  \n",
       "4                 24.0                30.0             18.4226  \n",
       "5                 20.0                25.0             29.9739  "
      ]
     },
     "execution_count": 9,
     "metadata": {},
     "output_type": "execute_result"
    }
   ],
   "source": [
    "qoly.head()"
   ]
  },
  {
   "cell_type": "markdown",
   "metadata": {},
   "source": [
    "# Feature 3: Analyse data"
   ]
  },
  {
   "cell_type": "code",
   "execution_count": 9,
   "metadata": {},
   "outputs": [
    {
     "data": {
      "text/plain": [
       "0    67.1296\n",
       "Name: Average, dtype: float64"
      ]
     },
     "execution_count": 9,
     "metadata": {},
     "output_type": "execute_result"
    }
   ],
   "source": [
    "qoly['Average'].iloc[0:1]"
   ]
  },
  {
   "cell_type": "code",
   "execution_count": 10,
   "metadata": {},
   "outputs": [],
   "source": [
    "for col in ort.columns:\n",
    "    if 'Unnamed' in col:\n",
    "        del ort[col]"
   ]
  },
  {
   "cell_type": "code",
   "execution_count": 11,
   "metadata": {},
   "outputs": [],
   "source": [
    "a = ort['Patient Information- Fertilized ACL : Surgical time and personnel : 1 : Surgical Time (skin to skin)'].iloc[0:29].mean()"
   ]
  },
  {
   "cell_type": "code",
   "execution_count": 12,
   "metadata": {},
   "outputs": [],
   "source": [
    "b = ort['Patient Information- Fertilized ACL : Surgical time and personnel : 1 : Surgical Time (skin to skin)'].iloc[29:58].mean()"
   ]
  },
  {
   "cell_type": "markdown",
   "metadata": {},
   "source": [
    "# Feature 4: Plotting\n",
    "\n",
    "Average procedure time for two sets of patients"
   ]
  },
  {
   "cell_type": "code",
   "execution_count": 14,
   "metadata": {},
   "outputs": [
    {
     "data": {
      "image/png": "[encoded data removed]",
      "text/plain": [
       "<Figure size 432x288 with 1 Axes>"
      ]
     },
     "metadata": {
      "needs_background": "light"
     },
     "output_type": "display_data"
    }
   ],
   "source": [
    "plt.bar([\"A\",\"B\"],[a,b])\n",
    "plt.ylabel('Time (mins')\n",
    "plt.xlabel('Procedure Time (mins')\n",
    "plt.show()"
   ]
  },
  {
   "cell_type": "code",
   "execution_count": 15,
   "metadata": {},
   "outputs": [
    {
     "data": {
      "text/plain": [
       "[<matplotlib.lines.Line2D at 0x2987d5f50d0>]"
      ]
     },
     "execution_count": 15,
     "metadata": {},
     "output_type": "execute_result"
    },
    {
     "data": {
      "image/png": "[encoded data removed]",
      "text/plain": [
       "<Figure size 432x288 with 1 Axes>"
      ]
     },
     "metadata": {
      "needs_background": "light"
     },
     "output_type": "display_data"
    }
   ],
   "source": [
    "plt.plot(ort['Patient Information- Fertilized ACL : Surgical time and personnel : 1 : Surgical Time (skin to skin)'].iloc[0:29])"
   ]
  },
  {
   "cell_type": "code",
   "execution_count": 16,
   "metadata": {},
   "outputs": [
    {
     "name": "stdout",
     "output_type": "stream",
     "text": [
      "0    67.1296\n",
      "Name: Average, dtype: float64\n"
     ]
    }
   ],
   "source": [
    "print(qoly['Average'].iloc[0:1])"
   ]
  },
  {
   "cell_type": "markdown",
   "metadata": {},
   "source": [
    "# Clinical section\n",
    "\n",
    "### Lavender-Hewett Simple Cost Effectiveness Analysis or LHSCEA or Lasso\n",
    "\n",
    "Takes user input and calculates a cost effectiveness score"
   ]
  },
  {
   "cell_type": "code",
   "execution_count": null,
   "metadata": {},
   "outputs": [
    {
     "name": "stdout",
     "output_type": "stream",
     "text": [
      "Lavender-Hewett Simple Cost Effectiveness Analysis or LHSCEA or Lasso\n"
     ]
    }
   ],
   "source": [
    "print(\"Lavender-Hewett Simple Cost Effectiveness Analysis or LHSCEA or Lasso\")"
   ]
  },
  {
   "cell_type": "code",
   "execution_count": null,
   "metadata": {},
   "outputs": [
    {
     "name": "stdout",
     "output_type": "stream",
     "text": [
      "INPUT REQUIREMENTS for USER: You will need to obtain and enter the procedure time in minutes, average operating room cost per minute, surgical materials cost, final QoL Scores, final Functional Rating score, the time to return to work or play in weeks for each procedure, the final surgical tunnel width in mm and whether surgical revision was required and whether or not the revision was staged.\n"
     ]
    }
   ],
   "source": [
    "print(\"INPUT REQUIREMENTS for USER: You will need to obtain and enter the procedure time in minutes, average operating room cost per minute, surgical materials cost, final QoL Scores, final Functional Rating score, the time to return to work or play in weeks for each procedure, the final surgical tunnel width in mm and whether surgical revision was required and whether or not the revision was staged.\")"
   ]
  },
  {
   "cell_type": "code",
   "execution_count": 1,
   "metadata": {},
   "outputs": [
    {
     "name": "stdout",
     "output_type": "stream",
     "text": [
      "What is your procedure time in minutes for Procedure A?\n",
      "What is your procedure time in minutes for Procedure B?\n"
     ]
    },
    {
     "ename": "KeyboardInterrupt",
     "evalue": "Interrupted by user",
     "output_type": "error",
     "traceback": [
      "\u001b[1;31m---------------------------------------------------------------------------\u001b[0m",
      "\u001b[1;31mKeyboardInterrupt\u001b[0m                         Traceback (most recent call last)",
      "\u001b[1;32mc:\\Users\\hewettt\\projects\\HewettLavenderSimpleCostEffectivenessAnalysisSCEA.ipynb Cell 3'\u001b[0m in \u001b[0;36m<cell line: 5>\u001b[1;34m()\u001b[0m\n\u001b[0;32m      <a href='vscode-notebook-cell:/c%3A/Users/hewettt/projects/HewettLavenderSimpleCostEffectivenessAnalysisSCEA.ipynb#ch0000002?line=2'>3</a>\u001b[0m SxtA \u001b[39m=\u001b[39m (\u001b[39m\"\u001b[39m\u001b[39mprocedure time in minutes for Procedure A\u001b[39m\u001b[39m\"\u001b[39m)\n\u001b[0;32m      <a href='vscode-notebook-cell:/c%3A/Users/hewettt/projects/HewettLavenderSimpleCostEffectivenessAnalysisSCEA.ipynb#ch0000002?line=3'>4</a>\u001b[0m SxtB \u001b[39m=\u001b[39m (\u001b[39m\"\u001b[39m\u001b[39mprocedure time in minutes for Procedure B\u001b[39m\u001b[39m\"\u001b[39m)\n\u001b[1;32m----> <a href='vscode-notebook-cell:/c%3A/Users/hewettt/projects/HewettLavenderSimpleCostEffectivenessAnalysisSCEA.ipynb#ch0000002?line=4'>5</a>\u001b[0m \u001b[39minput\u001b[39;49m(SxtA)\n\u001b[0;32m      <a href='vscode-notebook-cell:/c%3A/Users/hewettt/projects/HewettLavenderSimpleCostEffectivenessAnalysisSCEA.ipynb#ch0000002?line=5'>6</a>\u001b[0m \u001b[39minput\u001b[39m(SxtB)\n\u001b[0;32m      <a href='vscode-notebook-cell:/c%3A/Users/hewettt/projects/HewettLavenderSimpleCostEffectivenessAnalysisSCEA.ipynb#ch0000002?line=7'>8</a>\u001b[0m \u001b[39mprint\u001b[39m(\u001b[39m\"\u001b[39m\u001b[39mWhat is your average operating room cost per minute?\u001b[39m\u001b[39m\"\u001b[39m)\n",
      "File \u001b[1;32mc:\\Users\\hewettt\\projects\\env\\lib\\site-packages\\ipykernel\\kernelbase.py:1075\u001b[0m, in \u001b[0;36mKernel.raw_input\u001b[1;34m(self, prompt)\u001b[0m\n\u001b[0;32m   <a href='file:///c%3A/Users/hewettt/projects/env/lib/site-packages/ipykernel/kernelbase.py?line=1070'>1071</a>\u001b[0m \u001b[39mif\u001b[39;00m \u001b[39mnot\u001b[39;00m \u001b[39mself\u001b[39m\u001b[39m.\u001b[39m_allow_stdin:\n\u001b[0;32m   <a href='file:///c%3A/Users/hewettt/projects/env/lib/site-packages/ipykernel/kernelbase.py?line=1071'>1072</a>\u001b[0m     \u001b[39mraise\u001b[39;00m StdinNotImplementedError(\n\u001b[0;32m   <a href='file:///c%3A/Users/hewettt/projects/env/lib/site-packages/ipykernel/kernelbase.py?line=1072'>1073</a>\u001b[0m         \u001b[39m\"\u001b[39m\u001b[39mraw_input was called, but this frontend does not support input requests.\u001b[39m\u001b[39m\"\u001b[39m\n\u001b[0;32m   <a href='file:///c%3A/Users/hewettt/projects/env/lib/site-packages/ipykernel/kernelbase.py?line=1073'>1074</a>\u001b[0m     )\n\u001b[1;32m-> <a href='file:///c%3A/Users/hewettt/projects/env/lib/site-packages/ipykernel/kernelbase.py?line=1074'>1075</a>\u001b[0m \u001b[39mreturn\u001b[39;00m \u001b[39mself\u001b[39;49m\u001b[39m.\u001b[39;49m_input_request(\n\u001b[0;32m   <a href='file:///c%3A/Users/hewettt/projects/env/lib/site-packages/ipykernel/kernelbase.py?line=1075'>1076</a>\u001b[0m     \u001b[39mstr\u001b[39;49m(prompt),\n\u001b[0;32m   <a href='file:///c%3A/Users/hewettt/projects/env/lib/site-packages/ipykernel/kernelbase.py?line=1076'>1077</a>\u001b[0m     \u001b[39mself\u001b[39;49m\u001b[39m.\u001b[39;49m_parent_ident[\u001b[39m\"\u001b[39;49m\u001b[39mshell\u001b[39;49m\u001b[39m\"\u001b[39;49m],\n\u001b[0;32m   <a href='file:///c%3A/Users/hewettt/projects/env/lib/site-packages/ipykernel/kernelbase.py?line=1077'>1078</a>\u001b[0m     \u001b[39mself\u001b[39;49m\u001b[39m.\u001b[39;49mget_parent(\u001b[39m\"\u001b[39;49m\u001b[39mshell\u001b[39;49m\u001b[39m\"\u001b[39;49m),\n\u001b[0;32m   <a href='file:///c%3A/Users/hewettt/projects/env/lib/site-packages/ipykernel/kernelbase.py?line=1078'>1079</a>\u001b[0m     password\u001b[39m=\u001b[39;49m\u001b[39mFalse\u001b[39;49;00m,\n\u001b[0;32m   <a href='file:///c%3A/Users/hewettt/projects/env/lib/site-packages/ipykernel/kernelbase.py?line=1079'>1080</a>\u001b[0m )\n",
      "File \u001b[1;32mc:\\Users\\hewettt\\projects\\env\\lib\\site-packages\\ipykernel\\kernelbase.py:1120\u001b[0m, in \u001b[0;36mKernel._input_request\u001b[1;34m(self, prompt, ident, parent, password)\u001b[0m\n\u001b[0;32m   <a href='file:///c%3A/Users/hewettt/projects/env/lib/site-packages/ipykernel/kernelbase.py?line=1116'>1117</a>\u001b[0m             \u001b[39mbreak\u001b[39;00m\n\u001b[0;32m   <a href='file:///c%3A/Users/hewettt/projects/env/lib/site-packages/ipykernel/kernelbase.py?line=1117'>1118</a>\u001b[0m \u001b[39mexcept\u001b[39;00m \u001b[39mKeyboardInterrupt\u001b[39;00m:\n\u001b[0;32m   <a href='file:///c%3A/Users/hewettt/projects/env/lib/site-packages/ipykernel/kernelbase.py?line=1118'>1119</a>\u001b[0m     \u001b[39m# re-raise KeyboardInterrupt, to truncate traceback\u001b[39;00m\n\u001b[1;32m-> <a href='file:///c%3A/Users/hewettt/projects/env/lib/site-packages/ipykernel/kernelbase.py?line=1119'>1120</a>\u001b[0m     \u001b[39mraise\u001b[39;00m \u001b[39mKeyboardInterrupt\u001b[39;00m(\u001b[39m\"\u001b[39m\u001b[39mInterrupted by user\u001b[39m\u001b[39m\"\u001b[39m) \u001b[39mfrom\u001b[39;00m \u001b[39mNone\u001b[39m\n\u001b[0;32m   <a href='file:///c%3A/Users/hewettt/projects/env/lib/site-packages/ipykernel/kernelbase.py?line=1120'>1121</a>\u001b[0m \u001b[39mexcept\u001b[39;00m \u001b[39mException\u001b[39;00m:\n\u001b[0;32m   <a href='file:///c%3A/Users/hewettt/projects/env/lib/site-packages/ipykernel/kernelbase.py?line=1121'>1122</a>\u001b[0m     \u001b[39mself\u001b[39m\u001b[39m.\u001b[39mlog\u001b[39m.\u001b[39mwarning(\u001b[39m\"\u001b[39m\u001b[39mInvalid Message:\u001b[39m\u001b[39m\"\u001b[39m, exc_info\u001b[39m=\u001b[39m\u001b[39mTrue\u001b[39;00m)\n",
      "\u001b[1;31mKeyboardInterrupt\u001b[0m: Interrupted by user"
     ]
    }
   ],
   "source": [
    "print(\"What is your procedure time in minutes for Procedure A?\")\n",
    "print(\"What is your procedure time in minutes for Procedure B?\")\n",
    "SxtA = (\"procedure time in minutes for Procedure A\")\n",
    "SxtB = (\"procedure time in minutes for Procedure B\")\n",
    "input(SxtA)\n",
    "input(SxtB)\n",
    "\n",
    "print(\"What is your average operating room cost per minute?\")\n",
    "ORtCost = (\"average operating room cost per minute\")\n",
    "input(ORtCost)\n",
    "\n",
    "print(\"What is your surgical materials cost for Procedure A?\")\n",
    "print(\"What is your surgical materials cost for Procedure B?\")\n",
    "SxmA = (\"procedure surgical materials cost for Procedure A\")\n",
    "SxmB = (\"procedure surgical materials cost for Procedure B\")\n",
    "input(SxtA)\n",
    "input(SxtB)\n",
    "\n",
    "print(\"What is your final surgical tunnel width in mm for Procedure A?\")\n",
    "print(\"What is your final surgical tunnel width in mm for Procedure B?\")\n",
    "SxTWA = (\"final surgical tunnel width in mm for Procedure A\")\n",
    "SxTWB = (\"final surgical tunnel width in mm for Procedure B\")\n",
    "input(SxTWA)\n",
    "input(SxTWB)\n",
    "\n",
    "print(\"What is your final Quality of Life or QoLY score for Procedure A?\")\n",
    "print(\"What is your final Quality of Life or QoLY score for Procedure B?\")\n",
    "QoLYA = (\"final Quality of Life or QoLY score for Procedure A\")\n",
    "QoLYB = (\"final Quality of Life or QoLY score for Procedure B\")\n",
    "input(QoLYA)\n",
    "input(QoLYB)\n",
    "\n",
    "print(\"What is your final Functional Rating or IKDC or Marx score for Procedure A?\")\n",
    "print(\"What is your final Functional Rating or IKDC or Marx score for Procedure B?\")\n",
    "FuncRA = (\"final Functional Rating or IKDC or Marx score for Procedure A\")\n",
    "FuncRB = (\"final Functional Rating or IKDC or Marx score for Procedure B\")\n",
    "input(FuncRA)\n",
    "input(FuncRB)\n",
    "\n",
    "print(\"What is your total return to work or play or RTS time in weeks for Procedure A?\")\n",
    "print(\"What is your total return to work or play or RTS time in weeks for Procedure B?\")\n",
    "RTStA = (\"total return to work or play or RTS time in weeks for Procedure A\")\n",
    "RTStB = (\"total return to work or play or RTS time in weeks for Procedure B\")\n",
    "input(RTStA)\n",
    "input(RTStB)\n",
    "\n",
    "\n",
    "print(\"Was surgical revision required Yes or No for Procedure A?\")\n",
    "print(\"Was surgical revision required Yes or No for Procedure B?\")\n",
    "Y = True\n",
    "N = False\n",
    "\n",
    "print(\"staged revision required Yes or No for Procedure A\")\n",
    "print(\"staged revision required Yes or No for Procedure B\")\n",
    "input(\"Y or N\")\n",
    "\n",
    "print(\"The total cost of procedure A\" == (\"procedure time in minutes for Procedure A\" * \"average operating room cost per minute\" + \"surgical materials cost for Procedure A\"))\n",
    "print(\"The total cost of procedure B\" == (\"procedure time in minutes for Procedure B\" * \"average operating room cost per minute\" + \"surgical materials cost for Procedure B\"))\n",
    "CostA = (\"The total cost of procedure A\")\n",
    "CostB = (\"The total cost of procedure B\")\n",
    "\n",
    "print(CostA == (SxtA * ORtCost + SxmA))\n",
    "print(CostB == (SxtB * ORtCost + SxmB))\n",
    "\n",
    "print(\"The total outcome score of procedure A\" == (\"final Quality of Life or QoLY score for Procedure A\" * \"final Functional Rating or IKDC or Marx score for Procedure A\" / \"total return to work or play or RTS time in weeks for Procedure A\"))\n",
    "RTStA = (\"total return to work or play or RTS time in weeks for Procedure A\")\n",
    "print(\"The total outcome score procedure B\" == (\"final Quality of Life or QoLY score for Procedure B\" * \"final Functional Rating or IKDC or Marx score for Procedure B\" / \"total return to work or play or RTS time in weeks for Procedure A\"))\n",
    "RTStB = (\"total return to work or play or RTS time in weeks for Procedure B\")\n",
    "\n",
    "OutA = (\"The total outcome score of procedure A\")\n",
    "OutB = (\"The total outcome score of procedure B\")\n",
    "\n",
    "print(OutA == (QoLYA * FuncRA / RTStA))\n",
    "print(OutB == (QoLYB * FuncRB / RTStB))\n",
    "\n",
    "\n",
    "print(\"The procedure cost in US dollars and cents for Procedure A is ______\")\n",
    "print(\"The procedure cost in US dollars and cents for Procedure B is ______\")\n",
    "print(\"The recovery cost in US dollars and cents for Procedure A is ______\")\n",
    "print(\"The recovery cost in US dollars and cents for Procedure B is ______\")\n",
    "print(\"The total cost in US dollars and cents for Procedure A is ______\")\n",
    "print(\"The total cost in US dollars and cents for Procedure B is ______\")\n",
    "\n",
    "print(\"Please note An incremental cost-effectiveness ratio of $50 000/quality-adjusted life year QALY will be used as the threshold for cost-effectiveness.\")\n",
    "\n"
   ]
  },
  {
   "cell_type": "code",
   "execution_count": null,
   "metadata": {},
   "outputs": [],
   "source": [
    "#I'm STILL tryimg to commit -TEH - after working on it with Cody & John"
   ]
  }
 ],
 "metadata": {
  "kernelspec": {
   "display_name": "Python",
   "language": "python",
   "name": "python3"
  },
  "language_info": {
   "codemirror_mode": {
    "name": "ipython",
    "version": 3
   },
   "file_extension": ".py",
   "mimetype": "text/x-python",
   "name": "python",
   "nbconvert_exporter": "python",
   "pygments_lexer": "ipython3",
   "version": "3.9.7"
  },
  "vscode": {
   "interpreter": {
    "hash": "25a19fbe0a9132dfb9279d48d161753c6352f8f9478c2e74383d340069b907c3"
   }
  }
 },
 "nbformat": 4,
 "nbformat_minor": 4
}
