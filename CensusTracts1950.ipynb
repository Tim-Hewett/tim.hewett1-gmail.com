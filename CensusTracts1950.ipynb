{
 "cells": [
  {
   "cell_type": "markdown",
   "id": "3083569f-fdee-4ffd-91a5-eac83ad60b7d",
   "metadata": {},
   "source": [
    "# Importing needed libraries"
   ]
  },
  {
   "cell_type": "code",
   "execution_count": 14,
   "id": "9c870290-af06-4e5d-9f25-37baeaca9aa7",
   "metadata": {},
   "outputs": [],
   "source": [
    "import pandas as pd\n",
    "import matplotlib.pyplot as plt\n",
    "import openpyxl\n",
    "import numpy as np"
   ]
  },
  {
   "cell_type": "markdown",
   "id": "147a6b61-541f-4cd0-a374-988e8cf04367",
   "metadata": {},
   "source": [
    "# Importing Data"
   ]
  },
  {
   "cell_type": "code",
   "execution_count": 2,
   "id": "a3c19b2a-685e-445a-8f7f-071e7b91664a",
   "metadata": {},
   "outputs": [],
   "source": [
    "#Importing data\n",
    "pdf1950 = pd.read_excel('Census 1950.xlsx')"
   ]
  },
  {
   "cell_type": "code",
   "execution_count": 3,
   "id": "76d3b9e9-a608-4327-94e2-259964c2dc32",
   "metadata": {},
   "outputs": [
    {
     "data": {
      "text/html": [
       "<div>\n",
       "<style scoped>\n",
       "    .dataframe tbody tr th:only-of-type {\n",
       "        vertical-align: middle;\n",
       "    }\n",
       "\n",
       "    .dataframe tbody tr th {\n",
       "        vertical-align: top;\n",
       "    }\n",
       "\n",
       "    .dataframe thead th {\n",
       "        text-align: right;\n",
       "    }\n",
       "</style>\n",
       "<table border=\"1\" class=\"dataframe\">\n",
       "  <thead>\n",
       "    <tr style=\"text-align: right;\">\n",
       "      <th></th>\n",
       "      <th>Statistics</th>\n",
       "      <th>Census Tract 0009, Hamilton County, Ohio</th>\n",
       "      <th>Unnamed: 2</th>\n",
       "      <th>Census Tract 0010, Hamilton County, Ohio</th>\n",
       "      <th>Unnamed: 4</th>\n",
       "      <th>Census Tract 0016, Hamilton County, Ohio</th>\n",
       "      <th>Unnamed: 6</th>\n",
       "      <th>Census Tract 0017, Hamilton County, Ohio</th>\n",
       "      <th>Unnamed: 8</th>\n",
       "      <th>TOTAL (All Selected Census Tracts)</th>\n",
       "      <th>Unnamed: 10</th>\n",
       "    </tr>\n",
       "  </thead>\n",
       "  <tbody>\n",
       "    <tr>\n",
       "      <th>0</th>\n",
       "      <td>SE:T1. Total Population</td>\n",
       "      <td>NaN</td>\n",
       "      <td>NaN</td>\n",
       "      <td>NaN</td>\n",
       "      <td>NaN</td>\n",
       "      <td>NaN</td>\n",
       "      <td>NaN</td>\n",
       "      <td>NaN</td>\n",
       "      <td>NaN</td>\n",
       "      <td>NaN</td>\n",
       "      <td>NaN</td>\n",
       "    </tr>\n",
       "    <tr>\n",
       "      <th>1</th>\n",
       "      <td>Total Population</td>\n",
       "      <td>7565</td>\n",
       "      <td>NaN</td>\n",
       "      <td>5781</td>\n",
       "      <td>NaN</td>\n",
       "      <td>5931</td>\n",
       "      <td>NaN</td>\n",
       "      <td>6353</td>\n",
       "      <td>NaN</td>\n",
       "      <td>25630</td>\n",
       "      <td>NaN</td>\n",
       "    </tr>\n",
       "    <tr>\n",
       "      <th>2</th>\n",
       "      <td>SE:T2. Area</td>\n",
       "      <td>NaN</td>\n",
       "      <td>NaN</td>\n",
       "      <td>NaN</td>\n",
       "      <td>NaN</td>\n",
       "      <td>NaN</td>\n",
       "      <td>NaN</td>\n",
       "      <td>NaN</td>\n",
       "      <td>NaN</td>\n",
       "      <td>NaN</td>\n",
       "      <td>NaN</td>\n",
       "    </tr>\n",
       "    <tr>\n",
       "      <th>3</th>\n",
       "      <td>Total Area (sq. miles)</td>\n",
       "      <td>0.12</td>\n",
       "      <td>NaN</td>\n",
       "      <td>0.1</td>\n",
       "      <td>NaN</td>\n",
       "      <td>0.14</td>\n",
       "      <td>NaN</td>\n",
       "      <td>0.08</td>\n",
       "      <td>NaN</td>\n",
       "      <td>0.44</td>\n",
       "      <td>NaN</td>\n",
       "    </tr>\n",
       "    <tr>\n",
       "      <th>4</th>\n",
       "      <td>SE:T3. Population Density</td>\n",
       "      <td>NaN</td>\n",
       "      <td>NaN</td>\n",
       "      <td>NaN</td>\n",
       "      <td>NaN</td>\n",
       "      <td>NaN</td>\n",
       "      <td>NaN</td>\n",
       "      <td>NaN</td>\n",
       "      <td>NaN</td>\n",
       "      <td>NaN</td>\n",
       "      <td>NaN</td>\n",
       "    </tr>\n",
       "  </tbody>\n",
       "</table>\n",
       "</div>"
      ],
      "text/plain": [
       "                  Statistics Census Tract 0009, Hamilton County, Ohio  \\\n",
       "0    SE:T1. Total Population                                      NaN   \n",
       "1           Total Population                                     7565   \n",
       "2                SE:T2. Area                                      NaN   \n",
       "3     Total Area (sq. miles)                                     0.12   \n",
       "4  SE:T3. Population Density                                      NaN   \n",
       "\n",
       "   Unnamed: 2 Census Tract 0010, Hamilton County, Ohio  Unnamed: 4  \\\n",
       "0         NaN                                      NaN         NaN   \n",
       "1         NaN                                     5781         NaN   \n",
       "2         NaN                                      NaN         NaN   \n",
       "3         NaN                                      0.1         NaN   \n",
       "4         NaN                                      NaN         NaN   \n",
       "\n",
       "  Census Tract 0016, Hamilton County, Ohio  Unnamed: 6  \\\n",
       "0                                      NaN         NaN   \n",
       "1                                     5931         NaN   \n",
       "2                                      NaN         NaN   \n",
       "3                                     0.14         NaN   \n",
       "4                                      NaN         NaN   \n",
       "\n",
       "  Census Tract 0017, Hamilton County, Ohio  Unnamed: 8  \\\n",
       "0                                      NaN         NaN   \n",
       "1                                     6353         NaN   \n",
       "2                                      NaN         NaN   \n",
       "3                                     0.08         NaN   \n",
       "4                                      NaN         NaN   \n",
       "\n",
       "  TOTAL (All Selected Census Tracts)  Unnamed: 10  \n",
       "0                                NaN          NaN  \n",
       "1                              25630          NaN  \n",
       "2                                NaN          NaN  \n",
       "3                               0.44          NaN  \n",
       "4                                NaN          NaN  "
      ]
     },
     "execution_count": 3,
     "metadata": {},
     "output_type": "execute_result"
    }
   ],
   "source": [
    "#Info about rows and columns\n",
    "pdf1950.shape\n",
    "\n",
    "#Changing the number of rows displayed\n",
    "pd.set_option('display.max_rows', None)\n",
    "\n",
    "#displaying first 5 rows\n",
    "pdf1950.head()"
   ]
  },
  {
   "cell_type": "markdown",
   "id": "a662ba17-b425-4d99-82d2-fc7aa4ae3f8e",
   "metadata": {},
   "source": [
    "# Cleaning data"
   ]
  },
  {
   "cell_type": "code",
   "execution_count": 4,
   "id": "01eea0f3-6051-49b6-a4a9-9b0e5dea8cf7",
   "metadata": {},
   "outputs": [
    {
     "data": {
      "text/plain": [
       "['Statistics',\n",
       " 'Census Tract 0009, Hamilton County, Ohio',\n",
       " 'Unnamed: 2',\n",
       " 'Census Tract 0010, Hamilton County, Ohio',\n",
       " 'Unnamed: 4',\n",
       " 'Census Tract 0016, Hamilton County, Ohio',\n",
       " 'Unnamed: 6',\n",
       " 'Census Tract 0017, Hamilton County, Ohio',\n",
       " 'Unnamed: 8',\n",
       " 'TOTAL (All Selected Census Tracts)',\n",
       " 'Unnamed: 10']"
      ]
     },
     "execution_count": 4,
     "metadata": {},
     "output_type": "execute_result"
    }
   ],
   "source": [
    "#Removing rows with all NaN values \n",
    "pdf1950 = pdf1950.dropna(subset=[\"Census Tract 0009, Hamilton County, Ohio\"])\n",
    "\n",
    "# Replacing NaN by 0s\n",
    "pdf1950 = pdf1950.fillna(0)\n",
    "\n",
    "\n",
    "#Showing a list of columns names\n",
    "list(pdf1950)"
   ]
  },
  {
   "cell_type": "code",
   "execution_count": 5,
   "id": "d2850520-d82c-4654-9e07-fb582c2b873c",
   "metadata": {},
   "outputs": [
    {
     "data": {
      "text/plain": [
       "['Statistics',\n",
       " 'Census Tract 0009, Hamilton County, Ohio',\n",
       " 'Census Tract 0010, Hamilton County, Ohio',\n",
       " 'Census Tract 0016, Hamilton County, Ohio',\n",
       " 'Census Tract 0017, Hamilton County, Ohio',\n",
       " 'TOTAL (All Selected Census Tracts)']"
      ]
     },
     "execution_count": 5,
     "metadata": {},
     "output_type": "execute_result"
    }
   ],
   "source": [
    "#Removing columns I dont want\n",
    "for col in pdf1950.columns:\n",
    "    if 'Unnamed' in col:\n",
    "        del pdf1950[col]\n",
    "\n",
    "#Showing a list of columns names        \n",
    "list(pdf1950)"
   ]
  },
  {
   "cell_type": "code",
   "execution_count": 6,
   "id": "edd46155-e40c-4f40-bbaf-1c94de517c44",
   "metadata": {},
   "outputs": [],
   "source": [
    "#Renaming columns\n",
    "pdf1950.columns = ['Category',\n",
    "                   'Census Tract 9, Hamilton County, Ohio',\n",
    "                   'Census Tract 10, Hamilton County, Ohio',\n",
    "                   'Census Tract 16, Hamilton County, Ohio',\n",
    "                   'Census Tract 17, Hamilton County, Ohio',\n",
    "                   'TOTAL (All Selected Census Tracts)']"
   ]
  },
  {
   "cell_type": "code",
   "execution_count": 7,
   "id": "44451171-bd45-4597-b66e-bf62adf5ecfe",
   "metadata": {},
   "outputs": [],
   "source": [
    "#Obtaining index values of all the rows\n",
    "pdf1950.index.values\n",
    "\n",
    "#Removing all the rows I don't want\n",
    "pdf1950 = pdf1950.drop([1,   3,   5,   6,   7,   9,  10,  11,  18,\n",
    "        19,  20,  21,  22,  23,  24,  25,  26,  27,  28,  29,  30,  31,\n",
    "        32,  33,  34,  35,  37,  38,  39,  40,  41,  42,  43,  44,  45,\n",
    "        46,  47,  48,  49,  50,  52,  53,  54,  55,  56,  57,  58,  59,\n",
    "        61,  63,  64,  65,  66,  67,  68,  69,  70,  71,  72,  73,  74,\n",
    "        75,  76,  77,  78,  80,  82,  83,  84,  85,  86,  87,  88,  90,\n",
    "        91,  92,  94,  95,  96,  97,  98, 100, 102, 103, 104, 105, 107,\n",
    "       109, 110, 111, 112, 113, 115, 116, 117, 119, 120, 122, 123, 124,\n",
    "       125, 126, 128, 129, 130, 131, 133, 134, 135])"
   ]
  },
  {
   "cell_type": "code",
   "execution_count": 8,
   "id": "f2c936da-0677-4f95-afea-b4b64dbf0fc7",
   "metadata": {},
   "outputs": [
    {
     "data": {
      "text/plain": [
       "Category                                   object\n",
       "Census Tract 9, Hamilton County, Ohio     float64\n",
       "Census Tract 10, Hamilton County, Ohio    float64\n",
       "Census Tract 16, Hamilton County, Ohio    float64\n",
       "Census Tract 17, Hamilton County, Ohio    float64\n",
       "TOTAL (All Selected Census Tracts)        float64\n",
       "dtype: object"
      ]
     },
     "execution_count": 8,
     "metadata": {},
     "output_type": "execute_result"
    }
   ],
   "source": [
    "#Changing the data to floats\n",
    "pdf1950 = pdf1950.astype({'Census Tract 9, Hamilton County, Ohio': np.float64, 'Census Tract 10, Hamilton County, Ohio':np.float64,\n",
    "                          'Census Tract 16, Hamilton County, Ohio':np.float64,'Census Tract 17, Hamilton County, Ohio':np.float64,\n",
    "                          'TOTAL (All Selected Census Tracts)':np.float64})\n",
    "\n",
    "#Checking if data are floats now\n",
    "pdf1950.dtypes"
   ]
  },
  {
   "cell_type": "markdown",
   "id": "1574c7e3-266d-4112-bc94-fb08e36cbdbf",
   "metadata": {},
   "source": [
    "# Creating Visualizations"
   ]
  },
  {
   "cell_type": "code",
   "execution_count": 10,
   "id": "84882e00-2899-4517-af69-72c691facddf",
   "metadata": {},
   "outputs": [
    {
     "data": {
      "text/plain": [
       "<AxesSubplot:xlabel='Category'>"
      ]
     },
     "execution_count": 10,
     "metadata": {},
     "output_type": "execute_result"
    },
    {
     "data": {
      "image/png": "[encoded data removed]",
      "text/plain": [
       "<Figure size 720x720 with 1 Axes>"
      ]
     },
     "metadata": {
      "needs_background": "light"
     },
     "output_type": "display_data"
    }
   ],
   "source": [
    "pdf1950.iloc[1:4].plot.bar(x = 'Category', y = 'TOTAL (All Selected Census Tracts)', figsize=(10,10))"
   ]
  },
  {
   "cell_type": "code",
   "execution_count": 16,
   "id": "b017ce09-3a1c-49d6-9c90-724e49a0d407",
   "metadata": {},
   "outputs": [],
   "source": [
    "pdf1950.to_pickle('pdf1950.pkl')"
   ]
  },
  {
   "cell_type": "code",
   "execution_count": null,
   "id": "e12e1976-694c-4658-b25f-a785631c2157",
   "metadata": {},
   "outputs": [],
   "source": []
  }
 ],
 "metadata": {
  "kernelspec": {
   "display_name": "Python 3 (ipykernel)",
   "language": "python",
   "name": "python3"
  },
  "language_info": {
   "codemirror_mode": {
    "name": "ipython",
    "version": 3
   },
   "file_extension": ".py",
   "mimetype": "text/x-python",
   "name": "python",
   "nbconvert_exporter": "python",
   "pygments_lexer": "ipython3",
   "version": "3.8.13"
  }
 },
 "nbformat": 4,
 "nbformat_minor": 5
}
